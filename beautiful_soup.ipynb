{
 "cells": [
  {
   "cell_type": "code",
   "execution_count": 5,
   "metadata": {},
   "outputs": [],
   "source": [
    "import pandas as pd\n",
    "from pathlib import Path\n",
    "import os\n",
    "\n",
    "from bs4 import BeautifulSoup\n",
    "\n",
    "import preprocessing as prep\n",
    "from settings import *"
   ]
  },
  {
   "cell_type": "code",
   "execution_count": 6,
   "metadata": {},
   "outputs": [],
   "source": [
    "df = prep.load_data(REVIEW_FILE_PATH, encoding='utf8')"
   ]
  },
  {
   "cell_type": "code",
   "execution_count": 10,
   "metadata": {},
   "outputs": [
    {
     "name": "stderr",
     "output_type": "stream",
     "text": [
      "C:\\Users\\anna.senent.julian\\AppData\\Local\\Temp\\ipykernel_23256\\1022108533.py:1: MarkupResemblesLocatorWarning: The input looks more like a filename than markup. You may want to open this file and pass the filehandle into Beautiful Soup.\n",
      "  df_bool = df.Text.apply(lambda x : bool(BeautifulSoup(x, \"html.parser\").find()))\n"
     ]
    }
   ],
   "source": [
    "df_bool = df.Text.apply(lambda x : bool(BeautifulSoup(x, \"html.parser\").find()))"
   ]
  },
  {
   "cell_type": "code",
   "execution_count": 8,
   "metadata": {},
   "outputs": [
    {
     "data": {
      "text/plain": [
       "Text\n",
       "False    421130\n",
       "True     147324\n",
       "Name: count, dtype: int64"
      ]
     },
     "execution_count": 8,
     "metadata": {},
     "output_type": "execute_result"
    }
   ],
   "source": [
    "df_bool.value_counts()"
   ]
  },
  {
   "cell_type": "code",
   "execution_count": 11,
   "metadata": {},
   "outputs": [],
   "source": [
    "def extract_data_from_report3(filename):\n",
    "    html_report_part1 = open(filename,'r')\n",
    "    soup = BeautifulSoup( html_report_part1, \"html.parser\")"
   ]
  },
  {
   "cell_type": "code",
   "execution_count": 13,
   "metadata": {},
   "outputs": [],
   "source": [
    "def remove_html(text):\n",
    "    soup = BeautifulSoup(text, 'html.parser')\n",
    "    cleaned_text = soup.get_text()\n",
    "\n",
    "    return cleaned_text"
   ]
  },
  {
   "cell_type": "code",
   "execution_count": 15,
   "metadata": {},
   "outputs": [],
   "source": [
    "df = df.sample(n=1000, random_state=42)"
   ]
  },
  {
   "cell_type": "code",
   "execution_count": 16,
   "metadata": {},
   "outputs": [
    {
     "name": "stderr",
     "output_type": "stream",
     "text": [
      "C:\\Users\\anna.senent.julian\\AppData\\Local\\Temp\\ipykernel_23256\\994699676.py:2: MarkupResemblesLocatorWarning: The input looks more like a filename than markup. You may want to open this file and pass the filehandle into Beautiful Soup.\n",
      "  soup = BeautifulSoup(text, 'html.parser')\n"
     ]
    }
   ],
   "source": [
    "df['Text_no_html'] = df.Text.apply(lambda x : remove_html(x))"
   ]
  },
  {
   "cell_type": "code",
   "execution_count": 17,
   "metadata": {},
   "outputs": [
    {
     "data": {
      "text/html": [
       "<div>\n",
       "<style scoped>\n",
       "    .dataframe tbody tr th:only-of-type {\n",
       "        vertical-align: middle;\n",
       "    }\n",
       "\n",
       "    .dataframe tbody tr th {\n",
       "        vertical-align: top;\n",
       "    }\n",
       "\n",
       "    .dataframe thead th {\n",
       "        text-align: right;\n",
       "    }\n",
       "</style>\n",
       "<table border=\"1\" class=\"dataframe\">\n",
       "  <thead>\n",
       "    <tr style=\"text-align: right;\">\n",
       "      <th></th>\n",
       "      <th>Id</th>\n",
       "      <th>ProductId</th>\n",
       "      <th>UserId</th>\n",
       "      <th>ProfileName</th>\n",
       "      <th>HelpfulnessNumerator</th>\n",
       "      <th>HelpfulnessDenominator</th>\n",
       "      <th>Score</th>\n",
       "      <th>Time</th>\n",
       "      <th>Summary</th>\n",
       "      <th>Text</th>\n",
       "      <th>Text_no_html</th>\n",
       "    </tr>\n",
       "  </thead>\n",
       "  <tbody>\n",
       "    <tr>\n",
       "      <th>165256</th>\n",
       "      <td>165257</td>\n",
       "      <td>B000EVG8J2</td>\n",
       "      <td>A1L01D2BD3RKVO</td>\n",
       "      <td>B. Miller \"pet person\"</td>\n",
       "      <td>0</td>\n",
       "      <td>0</td>\n",
       "      <td>5</td>\n",
       "      <td>1268179200</td>\n",
       "      <td>Crunchy &amp; Good Gluten-Free Sandwich Cookies!</td>\n",
       "      <td>Having tried a couple of other brands of glute...</td>\n",
       "      <td>Having tried a couple of other brands of glute...</td>\n",
       "    </tr>\n",
       "    <tr>\n",
       "      <th>231465</th>\n",
       "      <td>231466</td>\n",
       "      <td>B0000BXJIS</td>\n",
       "      <td>A3U62RE5XZDP0G</td>\n",
       "      <td>Marty</td>\n",
       "      <td>0</td>\n",
       "      <td>0</td>\n",
       "      <td>5</td>\n",
       "      <td>1298937600</td>\n",
       "      <td>great kitty treats</td>\n",
       "      <td>My cat loves these treats. If ever I can't fin...</td>\n",
       "      <td>My cat loves these treats. If ever I can't fin...</td>\n",
       "    </tr>\n",
       "    <tr>\n",
       "      <th>427827</th>\n",
       "      <td>427828</td>\n",
       "      <td>B008FHUFAU</td>\n",
       "      <td>AOXC0JQQZGGB6</td>\n",
       "      <td>Kenneth Shevlin</td>\n",
       "      <td>0</td>\n",
       "      <td>2</td>\n",
       "      <td>3</td>\n",
       "      <td>1224028800</td>\n",
       "      <td>COFFEE TASTE</td>\n",
       "      <td>A little less than I expected.  It tends to ha...</td>\n",
       "      <td>A little less than I expected.  It tends to ha...</td>\n",
       "    </tr>\n",
       "    <tr>\n",
       "      <th>433954</th>\n",
       "      <td>433955</td>\n",
       "      <td>B006BXV14E</td>\n",
       "      <td>A3PWPNZVMNX3PA</td>\n",
       "      <td>rareoopdvds</td>\n",
       "      <td>0</td>\n",
       "      <td>1</td>\n",
       "      <td>2</td>\n",
       "      <td>1335312000</td>\n",
       "      <td>So the Mini-Wheats were too big?</td>\n",
       "      <td>First there was Frosted Mini-Wheats, in origin...</td>\n",
       "      <td>First there was Frosted Mini-Wheats, in origin...</td>\n",
       "    </tr>\n",
       "    <tr>\n",
       "      <th>70260</th>\n",
       "      <td>70261</td>\n",
       "      <td>B007I7Z3Z0</td>\n",
       "      <td>A1XNZ7PCE45KK7</td>\n",
       "      <td>Og8ys1</td>\n",
       "      <td>0</td>\n",
       "      <td>2</td>\n",
       "      <td>5</td>\n",
       "      <td>1334707200</td>\n",
       "      <td>Great Taste . . .</td>\n",
       "      <td>and I want to congratulate the graphic artist ...</td>\n",
       "      <td>and I want to congratulate the graphic artist ...</td>\n",
       "    </tr>\n",
       "    <tr>\n",
       "      <th>...</th>\n",
       "      <td>...</td>\n",
       "      <td>...</td>\n",
       "      <td>...</td>\n",
       "      <td>...</td>\n",
       "      <td>...</td>\n",
       "      <td>...</td>\n",
       "      <td>...</td>\n",
       "      <td>...</td>\n",
       "      <td>...</td>\n",
       "      <td>...</td>\n",
       "      <td>...</td>\n",
       "    </tr>\n",
       "    <tr>\n",
       "      <th>232949</th>\n",
       "      <td>232950</td>\n",
       "      <td>B001EPPFUK</td>\n",
       "      <td>A3AY0FKFYDNYI0</td>\n",
       "      <td>Paul L. Suomi</td>\n",
       "      <td>5</td>\n",
       "      <td>6</td>\n",
       "      <td>3</td>\n",
       "      <td>1296950400</td>\n",
       "      <td>it is cheap caviar</td>\n",
       "      <td>let's face it not spending a lot on this cavia...</td>\n",
       "      <td>let's face it not spending a lot on this cavia...</td>\n",
       "    </tr>\n",
       "    <tr>\n",
       "      <th>3426</th>\n",
       "      <td>3427</td>\n",
       "      <td>B005K4Q1VI</td>\n",
       "      <td>A1J0H6L8PTVNH7</td>\n",
       "      <td>sxbaughsx3</td>\n",
       "      <td>0</td>\n",
       "      <td>0</td>\n",
       "      <td>5</td>\n",
       "      <td>1321142400</td>\n",
       "      <td>Fantastic</td>\n",
       "      <td>Out of all of the hot chocolate kcups that I h...</td>\n",
       "      <td>Out of all of the hot chocolate kcups that I h...</td>\n",
       "    </tr>\n",
       "    <tr>\n",
       "      <th>390604</th>\n",
       "      <td>390605</td>\n",
       "      <td>B0049D3X3U</td>\n",
       "      <td>A1S5251XGPBIVN</td>\n",
       "      <td>James D. Coley \"mrchaplaincoley\"</td>\n",
       "      <td>1</td>\n",
       "      <td>1</td>\n",
       "      <td>5</td>\n",
       "      <td>1313798400</td>\n",
       "      <td>Great price!</td>\n",
       "      <td>What's not to like? Great price, free shipping...</td>\n",
       "      <td>What's not to like? Great price, free shipping...</td>\n",
       "    </tr>\n",
       "    <tr>\n",
       "      <th>145303</th>\n",
       "      <td>145304</td>\n",
       "      <td>B002OSFQ2I</td>\n",
       "      <td>A2A3XV2R7CQMBV</td>\n",
       "      <td>Amanda Peck \"amanda931\"</td>\n",
       "      <td>2</td>\n",
       "      <td>2</td>\n",
       "      <td>5</td>\n",
       "      <td>1279584000</td>\n",
       "      <td>NOT for everybody, though</td>\n",
       "      <td>I love it.&lt;br /&gt;&lt;br /&gt;But at least 40 per cent...</td>\n",
       "      <td>I love it.But at least 40 per cent of the peop...</td>\n",
       "    </tr>\n",
       "    <tr>\n",
       "      <th>313845</th>\n",
       "      <td>313846</td>\n",
       "      <td>B004JRO1S2</td>\n",
       "      <td>A1T8N18XKDLJO4</td>\n",
       "      <td>B. Aikens</td>\n",
       "      <td>0</td>\n",
       "      <td>0</td>\n",
       "      <td>3</td>\n",
       "      <td>1313625600</td>\n",
       "      <td>its ok</td>\n",
       "      <td>The taste is ok but I just can't see myself bu...</td>\n",
       "      <td>The taste is ok but I just can't see myself bu...</td>\n",
       "    </tr>\n",
       "  </tbody>\n",
       "</table>\n",
       "<p>1000 rows × 11 columns</p>\n",
       "</div>"
      ],
      "text/plain": [
       "            Id   ProductId          UserId                       ProfileName  \\\n",
       "165256  165257  B000EVG8J2  A1L01D2BD3RKVO            B. Miller \"pet person\"   \n",
       "231465  231466  B0000BXJIS  A3U62RE5XZDP0G                             Marty   \n",
       "427827  427828  B008FHUFAU   AOXC0JQQZGGB6                   Kenneth Shevlin   \n",
       "433954  433955  B006BXV14E  A3PWPNZVMNX3PA                       rareoopdvds   \n",
       "70260    70261  B007I7Z3Z0  A1XNZ7PCE45KK7                            Og8ys1   \n",
       "...        ...         ...             ...                               ...   \n",
       "232949  232950  B001EPPFUK  A3AY0FKFYDNYI0                     Paul L. Suomi   \n",
       "3426      3427  B005K4Q1VI  A1J0H6L8PTVNH7                        sxbaughsx3   \n",
       "390604  390605  B0049D3X3U  A1S5251XGPBIVN  James D. Coley \"mrchaplaincoley\"   \n",
       "145303  145304  B002OSFQ2I  A2A3XV2R7CQMBV           Amanda Peck \"amanda931\"   \n",
       "313845  313846  B004JRO1S2  A1T8N18XKDLJO4                         B. Aikens   \n",
       "\n",
       "        HelpfulnessNumerator  HelpfulnessDenominator  Score        Time  \\\n",
       "165256                     0                       0      5  1268179200   \n",
       "231465                     0                       0      5  1298937600   \n",
       "427827                     0                       2      3  1224028800   \n",
       "433954                     0                       1      2  1335312000   \n",
       "70260                      0                       2      5  1334707200   \n",
       "...                      ...                     ...    ...         ...   \n",
       "232949                     5                       6      3  1296950400   \n",
       "3426                       0                       0      5  1321142400   \n",
       "390604                     1                       1      5  1313798400   \n",
       "145303                     2                       2      5  1279584000   \n",
       "313845                     0                       0      3  1313625600   \n",
       "\n",
       "                                             Summary  \\\n",
       "165256  Crunchy & Good Gluten-Free Sandwich Cookies!   \n",
       "231465                            great kitty treats   \n",
       "427827                                  COFFEE TASTE   \n",
       "433954              So the Mini-Wheats were too big?   \n",
       "70260                              Great Taste . . .   \n",
       "...                                              ...   \n",
       "232949                            it is cheap caviar   \n",
       "3426                                       Fantastic   \n",
       "390604                                  Great price!   \n",
       "145303                     NOT for everybody, though   \n",
       "313845                                        its ok   \n",
       "\n",
       "                                                     Text  \\\n",
       "165256  Having tried a couple of other brands of glute...   \n",
       "231465  My cat loves these treats. If ever I can't fin...   \n",
       "427827  A little less than I expected.  It tends to ha...   \n",
       "433954  First there was Frosted Mini-Wheats, in origin...   \n",
       "70260   and I want to congratulate the graphic artist ...   \n",
       "...                                                   ...   \n",
       "232949  let's face it not spending a lot on this cavia...   \n",
       "3426    Out of all of the hot chocolate kcups that I h...   \n",
       "390604  What's not to like? Great price, free shipping...   \n",
       "145303  I love it.<br /><br />But at least 40 per cent...   \n",
       "313845  The taste is ok but I just can't see myself bu...   \n",
       "\n",
       "                                             Text_no_html  \n",
       "165256  Having tried a couple of other brands of glute...  \n",
       "231465  My cat loves these treats. If ever I can't fin...  \n",
       "427827  A little less than I expected.  It tends to ha...  \n",
       "433954  First there was Frosted Mini-Wheats, in origin...  \n",
       "70260   and I want to congratulate the graphic artist ...  \n",
       "...                                                   ...  \n",
       "232949  let's face it not spending a lot on this cavia...  \n",
       "3426    Out of all of the hot chocolate kcups that I h...  \n",
       "390604  What's not to like? Great price, free shipping...  \n",
       "145303  I love it.But at least 40 per cent of the peop...  \n",
       "313845  The taste is ok but I just can't see myself bu...  \n",
       "\n",
       "[1000 rows x 11 columns]"
      ]
     },
     "execution_count": 17,
     "metadata": {},
     "output_type": "execute_result"
    }
   ],
   "source": [
    "df"
   ]
  },
  {
   "cell_type": "code",
   "execution_count": 25,
   "metadata": {},
   "outputs": [
    {
     "name": "stderr",
     "output_type": "stream",
     "text": [
      "C:\\Users\\anna.senent.julian\\AppData\\Local\\Temp\\ipykernel_23256\\1022108533.py:1: MarkupResemblesLocatorWarning: The input looks more like a filename than markup. You may want to open this file and pass the filehandle into Beautiful Soup.\n",
      "  df_bool = df.Text.apply(lambda x : bool(BeautifulSoup(x, \"html.parser\").find()))\n"
     ]
    }
   ],
   "source": [
    "df_bool = df.Text.apply(lambda x : bool(BeautifulSoup(x, \"html.parser\").find()))"
   ]
  },
  {
   "cell_type": "code",
   "execution_count": 26,
   "metadata": {},
   "outputs": [
    {
     "data": {
      "text/plain": [
       "Text\n",
       "False    755\n",
       "True     245\n",
       "Name: count, dtype: int64"
      ]
     },
     "execution_count": 26,
     "metadata": {},
     "output_type": "execute_result"
    }
   ],
   "source": [
    "df_bool.value_counts()"
   ]
  },
  {
   "cell_type": "code",
   "execution_count": 27,
   "metadata": {},
   "outputs": [
    {
     "name": "stderr",
     "output_type": "stream",
     "text": [
      "C:\\Users\\anna.senent.julian\\AppData\\Local\\Temp\\ipykernel_23256\\2077536235.py:1: MarkupResemblesLocatorWarning: The input looks more like a filename than markup. You may want to open this file and pass the filehandle into Beautiful Soup.\n",
      "  df_bool = df.Text_no_html.apply(lambda x : bool(BeautifulSoup(x, \"html.parser\").find()))\n"
     ]
    }
   ],
   "source": [
    "df_bool = df.Text_no_html.apply(lambda x : bool(BeautifulSoup(x, \"html.parser\").find()))"
   ]
  },
  {
   "cell_type": "code",
   "execution_count": 28,
   "metadata": {},
   "outputs": [
    {
     "data": {
      "text/plain": [
       "Text_no_html\n",
       "False    999\n",
       "True       1\n",
       "Name: count, dtype: int64"
      ]
     },
     "execution_count": 28,
     "metadata": {},
     "output_type": "execute_result"
    }
   ],
   "source": [
    "df_bool.value_counts()"
   ]
  }
 ],
 "metadata": {
  "kernelspec": {
   "display_name": "food_review",
   "language": "python",
   "name": "python3"
  },
  "language_info": {
   "codemirror_mode": {
    "name": "ipython",
    "version": 3
   },
   "file_extension": ".py",
   "mimetype": "text/x-python",
   "name": "python",
   "nbconvert_exporter": "python",
   "pygments_lexer": "ipython3",
   "version": "3.11.8"
  }
 },
 "nbformat": 4,
 "nbformat_minor": 2
}
